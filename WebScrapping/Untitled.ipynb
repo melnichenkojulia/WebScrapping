{
 "cells": [
  {
   "cell_type": "code",
   "execution_count": 56,
   "metadata": {},
   "outputs": [],
   "source": [
    "# import wait as wait\n",
    "from bs4 import BeautifulSoup\n",
    "\n",
    "# soup = BeautifulSoup(\"https://rabota.ua/zapros/python-developer/%d0%ba%d0%b8%d0%b5%d0%b2\")\n",
    "\n",
    "# print(soup.prettify())\n",
    "\n",
    "\n",
    "from selenium import webdriver\n",
    "from selenium.webdriver.common.keys import Keys\n",
    "import time\n",
    "from selenium import webdriver\n",
    "from selenium.webdriver.support.wait import WebDriverWait\n",
    "from selenium.webdriver.support import expected_conditions as EC\n",
    "from selenium.webdriver.common.by import By"
   ]
  },
  {
   "cell_type": "code",
   "execution_count": 57,
   "metadata": {},
   "outputs": [],
   "source": [
    "driver = webdriver.Chrome('resources/chromedriver')  # Optional argument, if not specified will search path.\n",
    "driver.get('http://www.rabota.ua/')"
   ]
  },
  {
   "cell_type": "code",
   "execution_count": null,
   "metadata": {},
   "outputs": [],
   "source": [
    "time.sleep(3)"
   ]
  },
  {
   "cell_type": "code",
   "execution_count": 58,
   "metadata": {},
   "outputs": [],
   "source": [
    "wait = WebDriverWait(driver, 5)\n",
    "s_box= wait.until(EC.presence_of_element_located((By.TAG_NAME, 'input'))).send_keys(\"Python\")\n",
    "s_button =wait.until(EC.presence_of_element_located((By.CLASS_NAME, 'submit-button'))).click()"
   ]
  },
  {
   "cell_type": "code",
   "execution_count": 59,
   "metadata": {},
   "outputs": [],
   "source": [
    "f_text=driver.find_elements_by_class_name(\"card\")\n",
    "\n",
    "vac_text=\"\"\n",
    "cl_vac_text=[]\n",
    "cl_vac_link=[]\n",
    "\n",
    "vac_num=wait.until(EC.presence_of_element_located(\n",
    "            (By.CSS_SELECTOR, '#ctl00_content_vacancyList_ltCount > span')))"
   ]
  },
  {
   "cell_type": "code",
   "execution_count": 60,
   "metadata": {},
   "outputs": [
    {
     "name": "stdout",
     "output_type": "stream",
     "text": [
      "3\n"
     ]
    }
   ],
   "source": [
    "import math\n",
    "#page_num=int(vac_num.text)/40\n",
    "page_num=3\n",
    "page_num=math.ceil(page_num)\n",
    "print(page_num)"
   ]
  },
  {
   "cell_type": "code",
   "execution_count": 61,
   "metadata": {},
   "outputs": [
    {
     "data": {
      "text/plain": [
       "'244'"
      ]
     },
     "execution_count": 61,
     "metadata": {},
     "output_type": "execute_result"
    }
   ],
   "source": [
    "vac_num.text"
   ]
  },
  {
   "cell_type": "code",
   "execution_count": 62,
   "metadata": {},
   "outputs": [],
   "source": [
    "def parse_title(page_num):\n",
    "    page = 1\n",
    "    u=0\n",
    "    while True:\n",
    "\n",
    "        \n",
    "        f_text = driver.find_elements_by_class_name(\"card\")\n",
    "        link=driver.find_elements_by_css_selector(\" h2 > a\")\n",
    "        \n",
    "        for l in link:\n",
    "            t=l.get_attribute('href')\n",
    "            cl_vac_link.append(t) \n",
    "            \n",
    "        for f in f_text:\n",
    "            # print(f.text)\n",
    "            vac_text=str(f.text).replace(\"Горячая вакансия\",\"\\n\").replace(\"Профиль компании\",\"\\n\").replace(\"Рассмотрим кандидата с особенными потребностями\",\"\\n\").split(\"\\n\")\n",
    "            j = 0\n",
    "            \n",
    "            for i in vac_text:\n",
    "#                 print(i)\n",
    "                if i!='' and i!='\\n' and j<3:  #берем только первые 3 пункта\n",
    "                    cl_vac_text.append(i)\n",
    "                    \n",
    "                       \n",
    "                elif j==3:\n",
    "                    cl_vac_text.append(cl_vac_link[u])\n",
    "#                     print(cl_vac_link[u],u)\n",
    "                    u=u+1\n",
    "                j=j+1\n",
    "                \n",
    "                 \n",
    "            \n",
    "#         for l in link:\n",
    "#             t=l.get_attribute('href')\n",
    "#             cl_vac_link.append(t)             \n",
    "                \n",
    "\n",
    "               \n",
    "\n",
    "\n",
    "        wait.until(EC.presence_of_element_located(\n",
    "            (By.CSS_SELECTOR, '#ctl00_content_vacancyList_gridList_ctl43_pagerInnerTable > dd.nextbtn'))).click()\n",
    "        page = page + 1\n",
    "        if page==page_num+1:\n",
    "            break\n",
    "            \n",
    "            \n",
    "            \n",
    "       \n",
    "    \n",
    "        \n",
    "        \n",
    "    print(cl_vac_text)"
   ]
  },
  {
   "cell_type": "code",
   "execution_count": 45,
   "metadata": {},
   "outputs": [
    {
     "name": "stdout",
     "output_type": "stream",
     "text": [
      "40\n"
     ]
    }
   ],
   "source": [
    "# tt=[]\n",
    "# link=driver.find_elements_by_tag_name(\" h2 > a\")\n",
    "# for l in link:\n",
    "#                 t=l.get_attribute('href')\n",
    "#                 tt.append(t)\n",
    "# print(len(tt))\n",
    "                "
   ]
  },
  {
   "cell_type": "code",
   "execution_count": 115,
   "metadata": {},
   "outputs": [
    {
     "name": "stdout",
     "output_type": "stream",
     "text": [
      "https://rabota.ua/company598120/vacancy8393836\n"
     ]
    }
   ],
   "source": []
  },
  {
   "cell_type": "code",
   "execution_count": 63,
   "metadata": {},
   "outputs": [
    {
     "name": "stdout",
     "output_type": "stream",
     "text": [
      "['Middle DevOps Engineer', 'https://rabota.ua/company963199/vacancy8393486', 'https://rabota.ua/company2671363/vacancy8383677', 'Python / Data Engineer', 'https://rabota.ua/company394872/vacancy7856220', 'Test Automation Engineer (Python) #9025', 'https://rabota.ua/company788/vacancy8064722', 'Python ML Engineer', 'https://rabota.ua/company966/vacancy8380007', 'Junior Python', 'Финтех Консалт, ООО', '15 000 грн', 'https://rabota.ua/company10309527/vacancy8406007', 'Cloud Engineer (Big Data/Data Lake)', 'Raiffeisen Bank International', 'Киев', 'https://rabota.ua/company8055058/vacancy7971832', 'IT security expert', 'IT SmartFlex', 'Киев', 'https://rabota.ua/company7970713/vacancy8110172', 'Middle Python developer (remote)', 'Mindy Teams', 'Киев', 'https://rabota.ua/company3171501/vacancy8371297', 'Senior Python Developer', 'Genesis', 'Киев', 'https://rabota.ua/company782154/vacancy8383135', 'Middle AQA (Python) Engineer', 'Lemberg Solutions Limited', 'Львов', 'https://rabota.ua/company254763/vacancy8405804', 'Data scientist', 'Fozzy Group / Фоззи', 'Киев', 'https://rabota.ua/company923/vacancy8405744', 'Преподаватель по курсу \"Создание web-приложений c использованием Pytho...', 'ШАГ, Компьютерная Академия', 'Одесса', 'https://rabota.ua/company9983898/vacancy6716861', 'Python Developer', 'Yael Acceptic', 'Харьков', 'https://rabota.ua/company1100697/vacancy8324139', 'Senior Python/Django Developer', 'Skelia Ukraine', 'Киев', 'https://rabota.ua/company460820/vacancy8371248', 'Middle Python Engineer', 'Intel 471', '56 000 — 84 000 грн', 'https://rabota.ua/company6209095/vacancy8327766', 'Senior Python Engineer', 'Intel 471', '84 000 — 126 000 грн', 'https://rabota.ua/company6209095/vacancy8327768', 'Senior Python Back-end #8339', 'Lohika ', 'https://rabota.ua/company598120/vacancy8394024', 'Middle Python Developer', 'Genesis', 'Киев', 'https://rabota.ua/company782154/vacancy8382971', 'Team Lead/Senior Full Stack Python Engineer #8514', 'Lohika ', 'https://rabota.ua/company598120/vacancy8394064', 'Machine Learning Engineer', 'Trust Sourcing', 'Киев', 'https://rabota.ua/company1060258/vacancy8359791', 'Senior Python/Django Developer', 'Skelia Ukraine', 'Львов', 'https://rabota.ua/company460820/vacancy8371253', 'Big Data / AI (Artificial Intelligence) Analyst', 'Комерційний відділ Посольства Республіки Корея', '120 000 грн', 'https://rabota.ua/company3066053/vacancy8209078', 'Python Developer', 'Yael Acceptic', 'Киев', 'https://rabota.ua/company1100697/vacancy8324146', 'Senior Python Back-end #8350', 'Lohika ', 'https://rabota.ua/company598120/vacancy8393998', 'Разработчик Python (Junior)', 'KSL', '25 000 грн', 'https://rabota.ua/company785096/vacancy8382667', 'Back-end (Ruby) Senior #8588', 'Lohika ', 'https://rabota.ua/company598120/vacancy8393862', 'Back-end (Python) Team Lead #8477', 'Lohika ', 'https://rabota.ua/company598120/vacancy8393802', 'Back-end (Elixir) Middle #8526', 'Lohika ', 'https://rabota.ua/company598120/vacancy8393836', 'Senior Data Scientist', 'TapOK', 'Винница', 'https://rabota.ua/company5172671/vacancy8176183', 'Data scientist/Machine Learning engineer', 'Moneyveo', 'Киев', 'https://rabota.ua/company2165970/vacancy8393701', 'Python Developer', 'Академия Смарт', 'Харьков', 'https://rabota.ua/company2715878/vacancy8359218', 'Head of Analytics', 'F3nix', 'Киев', 'https://rabota.ua/company9517157/vacancy8393485', 'Big Data engineer', 'WISE IT', 'Киев', 'https://rabota.ua/company6416025/vacancy8316183', 'Strong junior / middle Data scientist', 'Artellence', 'Киев', 'https://rabota.ua/company3308776/vacancy8404788', 'Обучение Python', 'NIX ', 'https://rabota.ua/company53660/vacancy8404775', 'Senior Python Software Engineer', 'EPAM / Epam Systems', 'Киев', 'https://rabota.ua/company1074/vacancy8370200', 'Senior Python Dev (BigData)', 'Альфа-Банк ', 'https://rabota.ua/company583287/vacancy8311319', 'Преподаватель Python', 'Шаг, Компьютерная Академия', 'Киев', 'https://rabota.ua/company2972039/vacancy7454062', 'Middle Python developer', 'ТIЕС ТЕХ, ТОВ', 'Киев', 'https://rabota.ua/company4616161/vacancy7649046', 'Middle DevOps Engineer', 'https://rabota.ua/company963199/vacancy8393486', 'https://rabota.ua/company2671363/vacancy8383677', 'Python / Data Engineer', 'https://rabota.ua/company394872/vacancy7856220', 'Test Automation Engineer (Python) #9025', 'https://rabota.ua/company788/vacancy8064722', 'Python ML Engineer', 'https://rabota.ua/company966/vacancy8380007', 'Junior Python', 'Финтех Консалт, ООО', '15 000 грн', 'https://rabota.ua/company10309527/vacancy8406007', 'Cloud Engineer (Big Data/Data Lake)', 'Raiffeisen Bank International', 'Киев', 'https://rabota.ua/company8055058/vacancy7971832', 'IT security expert', 'IT SmartFlex', 'Киев', 'https://rabota.ua/company7970713/vacancy8110172', 'Middle Python developer (remote)', 'Mindy Teams', 'Киев', 'https://rabota.ua/company3171501/vacancy8371297', 'Senior Python Developer', 'Genesis', 'Киев', 'https://rabota.ua/company782154/vacancy8383135', 'Middle AQA (Python) Engineer', 'Lemberg Solutions Limited', 'Львов', 'https://rabota.ua/company254763/vacancy8405804', 'Data scientist', 'Fozzy Group / Фоззи', 'Киев', 'https://rabota.ua/company923/vacancy8405744', 'Преподаватель по курсу \"Создание web-приложений c использованием Pytho...', 'ШАГ, Компьютерная Академия', 'Одесса', 'https://rabota.ua/company9983898/vacancy6716861', 'Python Developer', 'Yael Acceptic', 'Харьков', 'https://rabota.ua/company1100697/vacancy8324139', 'Senior Python/Django Developer', 'Skelia Ukraine', 'Киев', 'https://rabota.ua/company460820/vacancy8371248', 'Middle Python Engineer', 'Intel 471', '56 000 — 84 000 грн', 'https://rabota.ua/company6209095/vacancy8327766', 'Senior Python Engineer', 'Intel 471', '84 000 — 126 000 грн', 'https://rabota.ua/company6209095/vacancy8327768', 'Senior Python Back-end #8339', 'Lohika ', 'https://rabota.ua/company598120/vacancy8394024', 'Middle Python Developer', 'Genesis', 'Киев', 'https://rabota.ua/company782154/vacancy8382971', 'Team Lead/Senior Full Stack Python Engineer #8514', 'Lohika ', 'https://rabota.ua/company598120/vacancy8394064', 'Machine Learning Engineer', 'Trust Sourcing', 'Киев', 'https://rabota.ua/company1060258/vacancy8359791', 'Senior Python/Django Developer', 'Skelia Ukraine', 'Львов', 'https://rabota.ua/company460820/vacancy8371253', 'Big Data / AI (Artificial Intelligence) Analyst', 'Комерційний відділ Посольства Республіки Корея', '120 000 грн', 'https://rabota.ua/company3066053/vacancy8209078', 'Python Developer', 'Yael Acceptic', 'Киев', 'https://rabota.ua/company1100697/vacancy8324146', 'Senior Python Back-end #8350', 'Lohika ', 'https://rabota.ua/company598120/vacancy8393998', 'Разработчик Python (Junior)', 'KSL', '25 000 грн', 'https://rabota.ua/company785096/vacancy8382667', 'Back-end (Ruby) Senior #8588', 'Lohika ', 'https://rabota.ua/company598120/vacancy8393862', 'Back-end (Python) Team Lead #8477', 'Lohika ', 'https://rabota.ua/company598120/vacancy8393802', 'Back-end (Elixir) Middle #8526', 'Lohika ', 'https://rabota.ua/company598120/vacancy8393836', 'Senior Data Scientist', 'TapOK', 'Винница', 'https://rabota.ua/company5172671/vacancy8176183', 'Data scientist/Machine Learning engineer', 'Moneyveo', 'Киев', 'https://rabota.ua/company2165970/vacancy8393701', 'Python Developer', 'Академия Смарт', 'Харьков', 'https://rabota.ua/company2715878/vacancy8359218', 'Head of Analytics', 'F3nix', 'Киев', 'https://rabota.ua/company9517157/vacancy8393485', 'Big Data engineer', 'WISE IT', 'Киев', 'https://rabota.ua/company6416025/vacancy8316183', 'Strong junior / middle Data scientist', 'Artellence', 'Киев', 'https://rabota.ua/company3308776/vacancy8404788', 'Обучение Python', 'NIX ', 'https://rabota.ua/company53660/vacancy8404775', 'Senior Python Software Engineer', 'EPAM / Epam Systems', 'Киев', 'https://rabota.ua/company1074/vacancy8370200', 'Senior Python Dev (BigData)', 'Альфа-Банк ', 'https://rabota.ua/company583287/vacancy8311319', 'Преподаватель Python', 'Шаг, Компьютерная Академия', 'Киев', 'https://rabota.ua/company2972039/vacancy7454062', 'Middle Python developer', 'ТIЕС ТЕХ, ТОВ', 'Киев', 'https://rabota.ua/company4616161/vacancy7649046', 'Middle DevOps Engineer', 'https://rabota.ua/company963199/vacancy8393486', 'https://rabota.ua/company2671363/vacancy8383677', 'Python / Data Engineer', 'https://rabota.ua/company394872/vacancy7856220', 'Test Automation Engineer (Python) #9025', 'https://rabota.ua/company788/vacancy8064722', 'Python ML Engineer', 'https://rabota.ua/company966/vacancy8380007', 'Junior Python', 'Финтех Консалт, ООО', '15 000 грн', 'https://rabota.ua/company10309527/vacancy8406007', 'Cloud Engineer (Big Data/Data Lake)', 'Raiffeisen Bank International', 'Киев', 'https://rabota.ua/company8055058/vacancy7971832', 'IT security expert', 'IT SmartFlex', 'Киев', 'https://rabota.ua/company7970713/vacancy8110172', 'Middle Python developer (remote)', 'Mindy Teams', 'Киев', 'https://rabota.ua/company3171501/vacancy8371297', 'Senior Python Developer', 'Genesis', 'Киев', 'https://rabota.ua/company782154/vacancy8383135', 'Middle AQA (Python) Engineer', 'Lemberg Solutions Limited', 'Львов', 'https://rabota.ua/company254763/vacancy8405804', 'Data scientist', 'Fozzy Group / Фоззи', 'Киев', 'https://rabota.ua/company923/vacancy8405744', 'Преподаватель по курсу \"Создание web-приложений c использованием Pytho...', 'ШАГ, Компьютерная Академия', 'Одесса', 'https://rabota.ua/company9983898/vacancy6716861', 'Python Developer', 'Yael Acceptic', 'Харьков', 'https://rabota.ua/company1100697/vacancy8324139', 'Senior Python/Django Developer', 'Skelia Ukraine', 'Киев', 'https://rabota.ua/company460820/vacancy8371248', 'Middle Python Engineer', 'Intel 471', '56 000 — 84 000 грн', 'https://rabota.ua/company6209095/vacancy8327766', 'Senior Python Engineer', 'Intel 471', '84 000 — 126 000 грн', 'https://rabota.ua/company6209095/vacancy8327768', 'Senior Python Back-end #8339', 'Lohika ', 'https://rabota.ua/company598120/vacancy8394024', 'Middle Python Developer', 'Genesis', 'Киев', 'https://rabota.ua/company782154/vacancy8382971', 'Team Lead/Senior Full Stack Python Engineer #8514', 'Lohika ', 'https://rabota.ua/company598120/vacancy8394064', 'Machine Learning Engineer', 'Trust Sourcing', 'Киев', 'https://rabota.ua/company1060258/vacancy8359791', 'Senior Python/Django Developer', 'Skelia Ukraine', 'Львов', 'https://rabota.ua/company460820/vacancy8371253', 'Big Data / AI (Artificial Intelligence) Analyst', 'Комерційний відділ Посольства Республіки Корея', '120 000 грн', 'https://rabota.ua/company3066053/vacancy8209078', 'Python Developer', 'Yael Acceptic', 'Киев', 'https://rabota.ua/company1100697/vacancy8324146', 'Senior Python Back-end #8350', 'Lohika ', 'https://rabota.ua/company598120/vacancy8393998', 'Разработчик Python (Junior)', 'KSL', '25 000 грн', 'https://rabota.ua/company785096/vacancy8382667', 'Back-end (Ruby) Senior #8588', 'Lohika ', 'https://rabota.ua/company598120/vacancy8393862', 'Back-end (Python) Team Lead #8477', 'Lohika ', 'https://rabota.ua/company598120/vacancy8393802', 'Back-end (Elixir) Middle #8526', 'Lohika ', 'https://rabota.ua/company598120/vacancy8393836', 'Senior Data Scientist', 'TapOK', 'Винница', 'https://rabota.ua/company5172671/vacancy8176183', 'Data scientist/Machine Learning engineer', 'Moneyveo', 'Киев', 'https://rabota.ua/company2165970/vacancy8393701', 'Python Developer', 'Академия Смарт', 'Харьков', 'https://rabota.ua/company2715878/vacancy8359218', 'Head of Analytics', 'F3nix', 'Киев', 'https://rabota.ua/company9517157/vacancy8393485', 'Big Data engineer', 'WISE IT', 'Киев', 'https://rabota.ua/company6416025/vacancy8316183', 'Strong junior / middle Data scientist', 'Artellence', 'Киев', 'https://rabota.ua/company3308776/vacancy8404788', 'Обучение Python', 'NIX ', 'https://rabota.ua/company53660/vacancy8404775', 'Senior Python Software Engineer', 'EPAM / Epam Systems', 'Киев', 'https://rabota.ua/company1074/vacancy8370200', 'Senior Python Dev (BigData)', 'Альфа-Банк ', 'https://rabota.ua/company583287/vacancy8311319', 'Преподаватель Python', 'Шаг, Компьютерная Академия', 'Киев', 'https://rabota.ua/company2972039/vacancy7454062', 'Middle Python developer', 'ТIЕС ТЕХ, ТОВ', 'Киев', 'https://rabota.ua/company4616161/vacancy7649046']\n"
     ]
    }
   ],
   "source": [
    "parse_title(page_num)"
   ]
  },
  {
   "cell_type": "code",
   "execution_count": 23,
   "metadata": {},
   "outputs": [],
   "source": [
    "# driver.quit()\n"
   ]
  }
 ],
 "metadata": {
  "kernelspec": {
   "display_name": "Python 3",
   "language": "python",
   "name": "python3"
  },
  "language_info": {
   "codemirror_mode": {
    "name": "ipython",
    "version": 3
   },
   "file_extension": ".py",
   "mimetype": "text/x-python",
   "name": "python",
   "nbconvert_exporter": "python",
   "pygments_lexer": "ipython3",
   "version": "3.7.4"
  }
 },
 "nbformat": 4,
 "nbformat_minor": 4
}
