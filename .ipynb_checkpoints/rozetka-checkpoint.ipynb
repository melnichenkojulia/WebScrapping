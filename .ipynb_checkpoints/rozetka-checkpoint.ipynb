{
 "cells": [
  {
   "cell_type": "code",
   "execution_count": 5,
   "metadata": {
    "ExecuteTime": {
     "end_time": "2021-03-21T14:42:44.108904Z",
     "start_time": "2021-03-21T14:42:44.104746Z"
    }
   },
   "outputs": [],
   "source": [
    "import requests"
   ]
  },
  {
   "cell_type": "code",
   "execution_count": 6,
   "metadata": {
    "ExecuteTime": {
     "end_time": "2021-03-21T15:01:18.494368Z",
     "start_time": "2021-03-21T15:01:18.488615Z"
    }
   },
   "outputs": [],
   "source": [
    "def get_picture(good_id):\n",
    "    try:\n",
    "        url = f'https://product-api.rozetka.com.ua/v4/goods/get-main?front-type=xl&goodsId={good_id}&lang=ru'\n",
    "        r = requests.get(url).json()\n",
    "        return r['data']['images'][0]['base_action']['url']\n",
    "    except Exception as e:\n",
    "        print('exc', e)\n",
    "        return None"
   ]
  },
  {
   "cell_type": "code",
   "execution_count": 7,
   "metadata": {
    "ExecuteTime": {
     "end_time": "2021-03-21T14:45:09.280853Z",
     "start_time": "2021-03-21T14:45:09.212479Z"
    }
   },
   "outputs": [
    {
     "data": {
      "text/plain": [
       "'https://i1.rozetka.ua/goods/11138574/luxvisage_4811329029001_images_11138574063.jpg'"
      ]
     },
     "execution_count": 7,
     "metadata": {},
     "output_type": "execute_result"
    }
   ],
   "source": [
    "get_picture(73671807)"
   ]
  },
  {
   "cell_type": "code",
   "execution_count": 8,
   "metadata": {
    "ExecuteTime": {
     "end_time": "2021-03-21T15:21:57.872520Z",
     "start_time": "2021-03-21T15:21:57.867875Z"
    }
   },
   "outputs": [],
   "source": [
    "def get_goods(category_id, page):\n",
    "    url = f'https://xl-catalog-api.rozetka.com.ua/v4/goods/get?front-type=xl&category_id={category_id}&lang=ru&page={page}'\n",
    "    try:\n",
    "        r = requests.get(url).json()\n",
    "        return r['data']['ids']\n",
    "    except Exception as e:\n",
    "        print('exc', e)\n",
    "        return []"
   ]
  },
  {
   "cell_type": "code",
   "execution_count": 9,
   "metadata": {
    "ExecuteTime": {
     "end_time": "2021-03-21T15:22:03.636101Z",
     "start_time": "2021-03-21T15:22:03.546587Z"
    }
   },
   "outputs": [
    {
     "data": {
      "text/plain": [
       "[38629488,\n",
       " 73671807,\n",
       " 117214501,\n",
       " 44622944,\n",
       " 81498615,\n",
       " 53897796,\n",
       " 44622896,\n",
       " 34816935,\n",
       " 112243340,\n",
       " 271965336]"
      ]
     },
     "execution_count": 9,
     "metadata": {},
     "output_type": "execute_result"
    }
   ],
   "source": [
    "get_goods(4658516, 1)[:10]"
   ]
  },
  {
   "cell_type": "code",
   "execution_count": 10,
   "metadata": {
    "ExecuteTime": {
     "end_time": "2021-03-21T19:42:55.755803Z",
     "start_time": "2021-03-21T19:42:55.748022Z"
    }
   },
   "outputs": [],
   "source": [
    "def get_country(good_id):\n",
    "    url = f'https://product-api.rozetka.com.ua/v4/goods/get-characteristic?front-type=xl&goodsId={good_id}&lang=ru'\n",
    "    try:\n",
    "        r = requests.get(url).json()\n",
    "        for opt in r['data'][0]['options']:\n",
    "            for value in opt['values']:\n",
    "                if ('Страна-производитель' in opt['title'] or 'Страна производитель' in opt['title']):\n",
    "                    return value['title']\n",
    "    except Exception as e:\n",
    "        print('exc', e)\n",
    "        return None"
   ]
  },
  {
   "cell_type": "code",
   "execution_count": 11,
   "metadata": {
    "ExecuteTime": {
     "end_time": "2021-03-21T14:51:49.332552Z",
     "start_time": "2021-03-21T14:51:49.263817Z"
    }
   },
   "outputs": [
    {
     "data": {
      "text/plain": [
       "'Беларусь'"
      ]
     },
     "execution_count": 11,
     "metadata": {},
     "output_type": "execute_result"
    }
   ],
   "source": [
    "get_country(117214501)"
   ]
  },
  {
   "cell_type": "code",
   "execution_count": 12,
   "metadata": {
    "ExecuteTime": {
     "end_time": "2021-03-21T19:37:22.690989Z",
     "start_time": "2021-03-21T19:37:22.684719Z"
    }
   },
   "outputs": [],
   "source": [
    "def get_top_categories():\n",
    "    url = 'https://common-api.rozetka.com.ua/v2/fat-menu/full?front-type=xl&r=0.7121641863182779&lang=ru'\n",
    "    try:\n",
    "        r = requests.get(url).json()\n",
    "        return [cat['category_id'] for cat in r['data'].values() if cat['category_id']]\n",
    "    except Exception as e:\n",
    "        print('exc', e)\n",
    "        return []"
   ]
  },
  {
   "cell_type": "markdown",
   "metadata": {},
   "source": [
    "---"
   ]
  },
  {
   "cell_type": "code",
   "execution_count": 13,
   "metadata": {
    "ExecuteTime": {
     "end_time": "2021-03-21T19:37:38.481781Z",
     "start_time": "2021-03-21T19:37:38.409561Z"
    }
   },
   "outputs": [
    {
     "data": {
      "text/plain": [
       "16"
      ]
     },
     "execution_count": 13,
     "metadata": {},
     "output_type": "execute_result"
    }
   ],
   "source": [
    "categories = get_top_categories()\n",
    "len(categories)"
   ]
  },
  {
   "cell_type": "code",
   "execution_count": 14,
   "metadata": {
    "ExecuteTime": {
     "end_time": "2021-03-21T19:38:53.700165Z",
     "start_time": "2021-03-21T19:38:53.693802Z"
    }
   },
   "outputs": [],
   "source": [
    "from tqdm import tqdm_notebook"
   ]
  },
  {
   "cell_type": "code",
   "execution_count": 15,
   "metadata": {
    "ExecuteTime": {
     "end_time": "2021-03-21T19:38:53.688113Z",
     "start_time": "2021-03-21T19:38:20.108441Z"
    }
   },
   "outputs": [
    {
     "name": "stderr",
     "output_type": "stream",
     "text": [
      "<ipython-input-15-500500aeb2fa>:2: TqdmDeprecationWarning: This function will be removed in tqdm==5.0.0\n",
      "Please use `tqdm.notebook.tqdm` instead of `tqdm.tqdm_notebook`\n",
      "  for cat in tqdm_notebook(categories):\n"
     ]
    },
    {
     "data": {
      "application/vnd.jupyter.widget-view+json": {
       "model_id": "3cc2ee2d89644d05a6b08fdf559f45fc",
       "version_major": 2,
       "version_minor": 0
      },
      "text/plain": [
       "  0%|          | 0/16 [00:00<?, ?it/s]"
      ]
     },
     "metadata": {},
     "output_type": "display_data"
    },
    {
     "data": {
      "text/plain": [
       "4800"
      ]
     },
     "execution_count": 15,
     "metadata": {},
     "output_type": "execute_result"
    }
   ],
   "source": [
    "gids = []\n",
    "for cat in tqdm_notebook(categories):\n",
    "    for page in range(1, 6):\n",
    "        gids += get_goods(cat, page)\n",
    "len(gids)"
   ]
  },
  {
   "cell_type": "code",
   "execution_count": 16,
   "metadata": {
    "ExecuteTime": {
     "end_time": "2021-03-21T19:43:11.067316Z",
     "start_time": "2021-03-21T19:43:11.055880Z"
    }
   },
   "outputs": [],
   "source": [
    "import random as rd\n",
    "rd.shuffle(gids)"
   ]
  },
  {
   "cell_type": "code",
   "execution_count": 17,
   "metadata": {},
   "outputs": [],
   "source": [
    "from multiprocessing.pool import ThreadPool\n",
    "pool = ThreadPool(processes=100)\n",
    "results = pool.map(get_picture, gids)"
   ]
  },
  {
   "cell_type": "code",
   "execution_count": 18,
   "metadata": {},
   "outputs": [],
   "source": [
    "pictures = dict(zip(gids, results))"
   ]
  },
  {
   "cell_type": "code",
   "execution_count": 19,
   "metadata": {},
   "outputs": [
    {
     "name": "stdout",
     "output_type": "stream",
     "text": [
      "exc list index out of range\n",
      "exc list index out of range\n",
      "exc list index out of range\n",
      "exc list index out of range\n",
      "exc list index out of range\n",
      "exc list index out of range\n",
      "exc list index out of range\n",
      "exc list index out of range\n",
      "exc list index out of range\n",
      "exc list index out of range\n",
      "exc list index out of range\n",
      "exc list index out of range\n",
      "exc list index out of range\n",
      "exc 'NoneType' object is not subscriptable\n",
      "exc list index out of range\n",
      "exc list index out of range\n",
      "exc list index out of range\n",
      "exc list index out of range\n",
      "exc list index out of range\n",
      "exc list index out of range\n"
     ]
    }
   ],
   "source": [
    "from multiprocessing.pool import ThreadPool\n",
    "pool = ThreadPool(processes=100)\n",
    "results = pool.map(get_country, gids)"
   ]
  },
  {
   "cell_type": "code",
   "execution_count": 20,
   "metadata": {},
   "outputs": [],
   "source": [
    "countries = dict(zip(gids, results))"
   ]
  },
  {
   "cell_type": "code",
   "execution_count": 21,
   "metadata": {},
   "outputs": [
    {
     "data": {
      "text/plain": [
       "(4669, 4669)"
      ]
     },
     "execution_count": 21,
     "metadata": {},
     "output_type": "execute_result"
    }
   ],
   "source": [
    "len(pictures), len(countries)"
   ]
  },
  {
   "cell_type": "code",
   "execution_count": 22,
   "metadata": {},
   "outputs": [],
   "source": [
    "pictures = {k:v for k,v in pictures.items() if v is not None}\n",
    "countries = {k:v for k,v in countries.items() if v is not None}"
   ]
  },
  {
   "cell_type": "code",
   "execution_count": 23,
   "metadata": {
    "ExecuteTime": {
     "end_time": "2021-03-21T19:55:17.775698Z",
     "start_time": "2021-03-21T19:43:57.613029Z"
    }
   },
   "outputs": [],
   "source": [
    "# pictures = {}\n",
    "# countries = {}\n",
    "# for gid in tqdm_notebook(gids):\n",
    "#     c = get_country(gid)\n",
    "#     if c:\n",
    "#         countries[gid] = c\n",
    "#     p = get_picture(gid)\n",
    "#     if p:\n",
    "#         pictures[gid] = p"
   ]
  },
  {
   "cell_type": "code",
   "execution_count": 24,
   "metadata": {
    "ExecuteTime": {
     "end_time": "2021-03-21T19:56:31.135830Z",
     "start_time": "2021-03-21T19:56:31.130469Z"
    }
   },
   "outputs": [],
   "source": [
    "from IPython.display import display, Image, clear_output"
   ]
  },
  {
   "cell_type": "code",
   "execution_count": 25,
   "metadata": {
    "ExecuteTime": {
     "end_time": "2021-03-21T19:56:35.171501Z",
     "start_time": "2021-03-21T19:56:35.163502Z"
    }
   },
   "outputs": [
    {
     "data": {
      "text/plain": [
       "4095"
      ]
     },
     "execution_count": 25,
     "metadata": {},
     "output_type": "execute_result"
    }
   ],
   "source": [
    "good_gids = set(gids) & set(countries) & set(pictures)\n",
    "len(good_gids)"
   ]
  },
  {
   "cell_type": "code",
   "execution_count": 26,
   "metadata": {
    "ExecuteTime": {
     "end_time": "2021-03-21T19:56:37.968799Z",
     "start_time": "2021-03-21T19:56:37.963536Z"
    }
   },
   "outputs": [],
   "source": [
    "countries_list = list(set(countries.values()))"
   ]
  },
  {
   "cell_type": "code",
   "execution_count": 27,
   "metadata": {
    "ExecuteTime": {
     "end_time": "2021-03-21T19:56:38.702120Z",
     "start_time": "2021-03-21T19:56:38.695818Z"
    }
   },
   "outputs": [
    {
     "data": {
      "text/plain": [
       "63"
      ]
     },
     "execution_count": 27,
     "metadata": {},
     "output_type": "execute_result"
    }
   ],
   "source": [
    "len(countries_list)"
   ]
  },
  {
   "cell_type": "code",
   "execution_count": 28,
   "metadata": {
    "ExecuteTime": {
     "end_time": "2021-03-21T19:56:42.977827Z",
     "start_time": "2021-03-21T19:56:42.973402Z"
    }
   },
   "outputs": [],
   "source": [
    "from ipywidgets import Button, HBox, VBox\n",
    "import random as rd"
   ]
  },
  {
   "cell_type": "code",
   "execution_count": 29,
   "metadata": {
    "ExecuteTime": {
     "end_time": "2021-03-21T20:04:57.216016Z",
     "start_time": "2021-03-21T20:04:57.207917Z"
    }
   },
   "outputs": [
    {
     "data": {
      "text/plain": [
       "(2208, 4095)"
      ]
     },
     "execution_count": 29,
     "metadata": {},
     "output_type": "execute_result"
    }
   ],
   "source": [
    "not_china = [k for k, v in countries.items() if v != 'Китай' and k in good_gids]\n",
    "len(not_china), len(good_gids)"
   ]
  },
  {
   "cell_type": "code",
   "execution_count": 30,
   "metadata": {
    "ExecuteTime": {
     "end_time": "2021-03-21T20:05:16.525476Z",
     "start_time": "2021-03-21T20:05:16.444005Z"
    }
   },
   "outputs": [
    {
     "data": {
      "text/html": [
       "<img src=\"https://i8.rozetka.ua/goods/19476227/eurogold_7640114030502_images_19476227995.jpg\"/>"
      ],
      "text/plain": [
       "<IPython.core.display.Image object>"
      ]
     },
     "metadata": {},
     "output_type": "display_data"
    },
    {
     "data": {
      "application/vnd.jupyter.widget-view+json": {
       "model_id": "22c690a5a7494842879c02951cacbe61",
       "version_major": 2,
       "version_minor": 0
      },
      "text/plain": [
       "VBox(children=(HBox(children=(Button(description='Мексика', style=ButtonStyle()), Button(description='Албания'…"
      ]
     },
     "metadata": {},
     "output_type": "display_data"
    },
    {
     "name": "stdout",
     "output_type": "stream",
     "text": [
      "Incorrect 👎\n",
      "Correct: Украина\n",
      "Your score: 0/1\n"
     ]
    },
    {
     "data": {
      "application/vnd.jupyter.widget-view+json": {
       "model_id": "281689fe43a44813944e1fbb3e9e7c4a",
       "version_major": 2,
       "version_minor": 0
      },
      "text/plain": [
       "Button(description='Next', style=ButtonStyle())"
      ]
     },
     "metadata": {},
     "output_type": "display_data"
    }
   ],
   "source": [
    "next_btn = Button(description='Next')\n",
    "score, total = 0, 0\n",
    "\n",
    "def run(__):\n",
    "    global next_btn\n",
    "    \n",
    "    clear_output()\n",
    "    gid = rd.choice(list(not_china))\n",
    "    display(Image(url=pictures[gid]))\n",
    "    ui_done = False\n",
    "\n",
    "    def on_click_good(btn):\n",
    "        nonlocal ui_done\n",
    "        global score\n",
    "        global total\n",
    "        if not ui_done:\n",
    "            ui_done = True\n",
    "            print('Correct 👍')\n",
    "            score += 1\n",
    "            total += 1\n",
    "            print(f'Your score: {score}/{total}')\n",
    "            display(next_btn)\n",
    "\n",
    "    def on_click_bad(btn):\n",
    "        nonlocal ui_done\n",
    "        global score\n",
    "        global total\n",
    "        if not ui_done:\n",
    "            ui_done = True\n",
    "            print('Incorrect 👎')\n",
    "            print('Correct:', countries[gid])\n",
    "            total += 1\n",
    "            print(f'Your score: {score}/{total}')\n",
    "            display(next_btn)\n",
    "\n",
    "    good_btn = Button(description=countries[gid])\n",
    "    good_btn.on_click(on_click_good)\n",
    "    bad_btns = []\n",
    "    used_countries = {countries[gid]}\n",
    "    for _ in range(3):\n",
    "        country = rd.choice(list(set(countries_list)-used_countries))\n",
    "        b = Button(description=country)\n",
    "        used_countries.add(country)\n",
    "        b.on_click(on_click_bad)\n",
    "        bad_btns.append(b)\n",
    "\n",
    "    buttons = [good_btn] + bad_btns\n",
    "    rd.shuffle(buttons)\n",
    "    display(VBox([HBox(buttons[:2]), HBox(buttons[2:])]))\n",
    "\n",
    "\n",
    "next_btn.on_click(run)\n",
    "run(0)"
   ]
  },
  {
   "cell_type": "code",
   "execution_count": null,
   "metadata": {},
   "outputs": [],
   "source": []
  }
 ],
 "metadata": {
  "kernelspec": {
   "display_name": "Python 3",
   "language": "python",
   "name": "python3"
  },
  "language_info": {
   "codemirror_mode": {
    "name": "ipython",
    "version": 3
   },
   "file_extension": ".py",
   "mimetype": "text/x-python",
   "name": "python",
   "nbconvert_exporter": "python",
   "pygments_lexer": "ipython3",
   "version": "3.9.2"
  }
 },
 "nbformat": 4,
 "nbformat_minor": 4
}
